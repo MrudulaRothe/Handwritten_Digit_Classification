{
  "nbformat": 4,
  "nbformat_minor": 0,
  "metadata": {
    "colab": {
      "name": "Digit classification.ipynb",
      "provenance": []
    },
    "kernelspec": {
      "name": "python3",
      "display_name": "Python 3"
    },
    "language_info": {
      "name": "python"
    }
  },
  "cells": [
    {
      "cell_type": "markdown",
      "metadata": {
        "id": "_YKobB0knEZO"
      },
      "source": [
        "# Importing Libraries"
      ]
    },
    {
      "cell_type": "code",
      "metadata": {
        "id": "T3OGF6xSy28U"
      },
      "source": [
        "import tensorflow as tf\n",
        "import numpy as np\n",
        "import matplotlib.pyplot as plt\n"
      ],
      "execution_count": 1,
      "outputs": []
    },
    {
      "cell_type": "markdown",
      "metadata": {
        "id": "HKeKf61nnLWO"
      },
      "source": [
        "# Loading Dataset"
      ]
    },
    {
      "cell_type": "code",
      "metadata": {
        "colab": {
          "base_uri": "https://localhost:8080/"
        },
        "id": "w43slWSezOAW",
        "outputId": "1a2d596a-4905-4420-bd0b-e7bab9adf609"
      },
      "source": [
        "mnist = tf.keras.datasets.mnist               # 28 x 28 images of handwritten images\n",
        "(x_train,y_train), (x_test,y_test) = mnist.load_data() "
      ],
      "execution_count": 2,
      "outputs": [
        {
          "output_type": "stream",
          "name": "stdout",
          "text": [
            "Downloading data from https://storage.googleapis.com/tensorflow/tf-keras-datasets/mnist.npz\n",
            "11493376/11490434 [==============================] - 0s 0us/step\n",
            "11501568/11490434 [==============================] - 0s 0us/step\n"
          ]
        }
      ]
    },
    {
      "cell_type": "code",
      "metadata": {
        "colab": {
          "base_uri": "https://localhost:8080/",
          "height": 265
        },
        "id": "6qQq9tie2FW5",
        "outputId": "2677eb99-4e65-4e4d-94cb-41ec356fa4ea"
      },
      "source": [
        "plt.imshow(x_train[0], cmap='binary')\n",
        "plt.show()"
      ],
      "execution_count": 3,
      "outputs": [
        {
          "output_type": "display_data",
          "data": {
            "image/png": "[encoded data removed]",
            "text/plain": [
              "<Figure size 432x288 with 1 Axes>"
            ]
          },
          "metadata": {
            "needs_background": "light"
          }
        }
      ]
    },
    {
      "cell_type": "markdown",
      "metadata": {
        "id": "5nOdyDI9nWNF"
      },
      "source": [
        "* Normalizing the values to 0-1\n",
        "\n"
      ]
    },
    {
      "cell_type": "code",
      "metadata": {
        "id": "GhKHJw7D4fLR"
      },
      "source": [
        "x_train = tf.keras.utils.normalize(x_train,axis=1)\n",
        "x_test = tf.keras.utils.normalize(x_test,axis=1)"
      ],
      "execution_count": 4,
      "outputs": []
    },
    {
      "cell_type": "code",
      "metadata": {
        "id": "4oJbzsBqBju2"
      },
      "source": [
        "x_train[0]"
      ],
      "execution_count": null,
      "outputs": []
    },
    {
      "cell_type": "code",
      "metadata": {
        "colab": {
          "base_uri": "https://localhost:8080/",
          "height": 265
        },
        "id": "wS3E2l6GBeEY",
        "outputId": "d30dd196-8b82-4868-bedb-6e188cdf9044"
      },
      "source": [
        "plt.imshow(x_train[0], cmap='binary')\n",
        "plt.show()"
      ],
      "execution_count": 6,
      "outputs": [
        {
          "output_type": "display_data",
          "data": {
            "image/png": "[encoded data removed]",
            "text/plain": [
              "<Figure size 432x288 with 1 Axes>"
            ]
          },
          "metadata": {
            "needs_background": "light"
          }
        }
      ]
    },
    {
      "cell_type": "markdown",
      "metadata": {
        "id": "G3AQWPFjnoBI"
      },
      "source": [
        "# Model Creation"
      ]
    },
    {
      "cell_type": "code",
      "metadata": {
        "colab": {
          "base_uri": "https://localhost:8080/"
        },
        "id": "_KkZV3DYBg7I",
        "outputId": "aa2aa057-02e5-4fcc-8d3e-776d46dd5d4b"
      },
      "source": [
        "# Building the Model\n",
        "model = tf.keras.models.Sequential()\n",
        "model.add(tf.keras.layers.Flatten())                         #  INPUT LAYER\n",
        "model.add(tf.keras.layers.Dense(128, activation=tf.nn.relu)) #  HIDDEN LAYER 1  128 neurons\n",
        "model.add(tf.keras.layers.Dense(128, activation=tf.nn.relu)) #  HIDDEN LAYER 2\n",
        "model.add(tf.keras.layers.Dense(10, activation=tf.nn.softmax))  #  OUTPUT LAYER \n",
        "\n",
        "model.compile(optimizer = 'adam',\n",
        "              loss = 'sparse_categorical_crossentropy',\n",
        "              metrics = ['accuracy'])\n",
        "\n",
        "model.fit(x_train, y_train,epochs=3)"
      ],
      "execution_count": 11,
      "outputs": [
        {
          "output_type": "stream",
          "name": "stdout",
          "text": [
            "Epoch 1/3\n",
            "1875/1875 [==============================] - 6s 3ms/step - loss: 0.2569 - accuracy: 0.9246\n",
            "Epoch 2/3\n",
            "1875/1875 [==============================] - 5s 3ms/step - loss: 0.1064 - accuracy: 0.9670\n",
            "Epoch 3/3\n",
            "1875/1875 [==============================] - 5s 3ms/step - loss: 0.0725 - accuracy: 0.9770\n"
          ]
        },
        {
          "output_type": "execute_result",
          "data": {
            "text/plain": [
              "<keras.callbacks.History at 0x7fbfa6a8f850>"
            ]
          },
          "metadata": {},
          "execution_count": 11
        }
      ]
    },
    {
      "cell_type": "markdown",
      "metadata": {
        "id": "jZ9_Lz48nzN9"
      },
      "source": [
        "We can see that loss is decreasing and accuracy is increasing"
      ]
    },
    {
      "cell_type": "markdown",
      "metadata": {
        "id": "ogSxAW4ZnsWd"
      },
      "source": [
        "# Model Testing"
      ]
    },
    {
      "cell_type": "code",
      "metadata": {
        "colab": {
          "base_uri": "https://localhost:8080/"
        },
        "id": "D_QZ031DjTZy",
        "outputId": "078e7cde-3069-495c-b2fa-0bb69d4cd70e"
      },
      "source": [
        "# Testing \n",
        "\n",
        "val_loss, val_acc = model.evaluate(x_test,y_test)\n",
        "print('Loss = ',val_loss)\n",
        "print('Accuracy = ',val_acc)"
      ],
      "execution_count": 12,
      "outputs": [
        {
          "output_type": "stream",
          "name": "stdout",
          "text": [
            "313/313 [==============================] - 1s 1ms/step - loss: 0.0903 - accuracy: 0.9716\n",
            "Loss =  0.09027121961116791\n",
            "Accuracy =  0.9715999960899353\n"
          ]
        }
      ]
    },
    {
      "cell_type": "markdown",
      "metadata": {
        "id": "4-mMiNESoBdd"
      },
      "source": [
        "# Saving the model"
      ]
    },
    {
      "cell_type": "code",
      "metadata": {
        "colab": {
          "base_uri": "https://localhost:8080/"
        },
        "id": "ZDp5HiwRkrTF",
        "outputId": "fbe7deb0-cf73-4422-d7f5-3fe2140a7a5c"
      },
      "source": [
        "model.save('Reader.model')"
      ],
      "execution_count": 13,
      "outputs": [
        {
          "output_type": "stream",
          "name": "stdout",
          "text": [
            "INFO:tensorflow:Assets written to: Reader.model/assets\n"
          ]
        }
      ]
    },
    {
      "cell_type": "code",
      "metadata": {
        "id": "o7LNlVLvlVRH"
      },
      "source": [
        "# Loading the model\n",
        "new_model = tf.keras.models.load_model('Reader.model')"
      ],
      "execution_count": 14,
      "outputs": []
    },
    {
      "cell_type": "markdown",
      "metadata": {
        "id": "yAej-ogvoKFU"
      },
      "source": [
        "# Predictions"
      ]
    },
    {
      "cell_type": "code",
      "metadata": {
        "id": "pexLm78llizi"
      },
      "source": [
        "predictions = new_model.predict([x_test])"
      ],
      "execution_count": 15,
      "outputs": []
    },
    {
      "cell_type": "code",
      "metadata": {
        "colab": {
          "base_uri": "https://localhost:8080/"
        },
        "id": "yqjVr_Phl8jN",
        "outputId": "fbe2348e-6d9f-4ffe-ae41-48b8e114578d"
      },
      "source": [
        "print(predictions)"
      ],
      "execution_count": 16,
      "outputs": [
        {
          "output_type": "stream",
          "name": "stdout",
          "text": [
            "[[1.9722306e-06 4.0590470e-07 9.3807275e-06 ... 9.9994612e-01\n",
            "  1.2309313e-07 8.4945250e-06]\n",
            " [1.4716075e-07 2.6975858e-03 9.9729389e-01 ... 7.0759467e-07\n",
            "  6.9748393e-07 1.0990918e-09]\n",
            " [5.3882331e-07 9.9931908e-01 3.2663170e-06 ... 1.8224925e-04\n",
            "  2.6806729e-05 2.4082623e-05]\n",
            " ...\n",
            " [3.0059975e-09 2.8309934e-08 1.9302744e-09 ... 1.5127372e-06\n",
            "  4.7749381e-07 6.1363044e-06]\n",
            " [3.3449887e-06 1.1266268e-05 2.9932216e-05 ... 5.5083578e-06\n",
            "  2.9770151e-02 6.6427319e-08]\n",
            " [1.2438583e-06 7.5841361e-11 3.0163513e-08 ... 6.5793648e-11\n",
            "  2.0173143e-08 2.9370481e-10]]\n"
          ]
        }
      ]
    },
    {
      "cell_type": "code",
      "metadata": {
        "colab": {
          "base_uri": "https://localhost:8080/",
          "height": 265
        },
        "id": "Akx09K1WmVAa",
        "outputId": "f2b81c9d-15c5-44a2-9c80-8e49858d1972"
      },
      "source": [
        "plt.imshow(x_test[2])\n",
        "plt.show()"
      ],
      "execution_count": 24,
      "outputs": [
        {
          "output_type": "display_data",
          "data": {
            "image/png": "[encoded data removed]",
            "text/plain": [
              "<Figure size 432x288 with 1 Axes>"
            ]
          },
          "metadata": {
            "needs_background": "light"
          }
        }
      ]
    },
    {
      "cell_type": "code",
      "metadata": {
        "colab": {
          "base_uri": "https://localhost:8080/"
        },
        "id": "WEcGsD98mAV0",
        "outputId": "46629ec0-d76b-47c2-c782-0fcc855ec9a5"
      },
      "source": [
        "print(np.argmax(predictions[2]))"
      ],
      "execution_count": 25,
      "outputs": [
        {
          "output_type": "stream",
          "name": "stdout",
          "text": [
            "1\n"
          ]
        }
      ]
    }
  ]
}